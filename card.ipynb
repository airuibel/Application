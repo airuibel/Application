{
 "cells": [
  {
   "cell_type": "code",
   "execution_count": 1,
   "metadata": {},
   "outputs": [
    {
     "data": {
      "text/html": [
       "<div>\n",
       "<style scoped>\n",
       "    .dataframe tbody tr th:only-of-type {\n",
       "        vertical-align: middle;\n",
       "    }\n",
       "\n",
       "    .dataframe tbody tr th {\n",
       "        vertical-align: top;\n",
       "    }\n",
       "\n",
       "    .dataframe thead th {\n",
       "        text-align: right;\n",
       "    }\n",
       "</style>\n",
       "<table border=\"1\" class=\"dataframe\">\n",
       "  <thead>\n",
       "    <tr style=\"text-align: right;\">\n",
       "      <th></th>\n",
       "      <th>ID</th>\n",
       "      <th>SeriousDlqin2yrs</th>\n",
       "      <th>RevolvingUtilizationOfUnsecuredLines</th>\n",
       "      <th>age</th>\n",
       "      <th>NumberOfTime30-59DaysPastDueNotWorse</th>\n",
       "      <th>DebtRatio</th>\n",
       "      <th>MonthlyIncome</th>\n",
       "      <th>NumberOfOpenCreditLinesAndLoans</th>\n",
       "      <th>NumberOfTimes90DaysLate</th>\n",
       "      <th>NumberRealEstateLoansOrLines</th>\n",
       "      <th>NumberOfTime60-89DaysPastDueNotWorse</th>\n",
       "      <th>NumberOfDependents</th>\n",
       "    </tr>\n",
       "  </thead>\n",
       "  <tbody>\n",
       "    <tr>\n",
       "      <th>0</th>\n",
       "      <td>1</td>\n",
       "      <td>1</td>\n",
       "      <td>0.766127</td>\n",
       "      <td>45</td>\n",
       "      <td>2</td>\n",
       "      <td>0.802982</td>\n",
       "      <td>9120.0</td>\n",
       "      <td>13</td>\n",
       "      <td>0</td>\n",
       "      <td>6</td>\n",
       "      <td>0</td>\n",
       "      <td>2.0</td>\n",
       "    </tr>\n",
       "    <tr>\n",
       "      <th>1</th>\n",
       "      <td>2</td>\n",
       "      <td>0</td>\n",
       "      <td>0.957151</td>\n",
       "      <td>40</td>\n",
       "      <td>0</td>\n",
       "      <td>0.121876</td>\n",
       "      <td>2600.0</td>\n",
       "      <td>4</td>\n",
       "      <td>0</td>\n",
       "      <td>0</td>\n",
       "      <td>0</td>\n",
       "      <td>1.0</td>\n",
       "    </tr>\n",
       "    <tr>\n",
       "      <th>2</th>\n",
       "      <td>3</td>\n",
       "      <td>0</td>\n",
       "      <td>0.658180</td>\n",
       "      <td>38</td>\n",
       "      <td>1</td>\n",
       "      <td>0.085113</td>\n",
       "      <td>3042.0</td>\n",
       "      <td>2</td>\n",
       "      <td>1</td>\n",
       "      <td>0</td>\n",
       "      <td>0</td>\n",
       "      <td>0.0</td>\n",
       "    </tr>\n",
       "    <tr>\n",
       "      <th>3</th>\n",
       "      <td>4</td>\n",
       "      <td>0</td>\n",
       "      <td>0.233810</td>\n",
       "      <td>30</td>\n",
       "      <td>0</td>\n",
       "      <td>0.036050</td>\n",
       "      <td>3300.0</td>\n",
       "      <td>5</td>\n",
       "      <td>0</td>\n",
       "      <td>0</td>\n",
       "      <td>0</td>\n",
       "      <td>0.0</td>\n",
       "    </tr>\n",
       "    <tr>\n",
       "      <th>4</th>\n",
       "      <td>5</td>\n",
       "      <td>0</td>\n",
       "      <td>0.907239</td>\n",
       "      <td>49</td>\n",
       "      <td>1</td>\n",
       "      <td>0.024926</td>\n",
       "      <td>63588.0</td>\n",
       "      <td>7</td>\n",
       "      <td>0</td>\n",
       "      <td>1</td>\n",
       "      <td>0</td>\n",
       "      <td>0.0</td>\n",
       "    </tr>\n",
       "  </tbody>\n",
       "</table>\n",
       "</div>"
      ],
      "text/plain": [
       "   ID  SeriousDlqin2yrs  RevolvingUtilizationOfUnsecuredLines  age  \\\n",
       "0   1                 1                              0.766127   45   \n",
       "1   2                 0                              0.957151   40   \n",
       "2   3                 0                              0.658180   38   \n",
       "3   4                 0                              0.233810   30   \n",
       "4   5                 0                              0.907239   49   \n",
       "\n",
       "   NumberOfTime30-59DaysPastDueNotWorse  DebtRatio  MonthlyIncome  \\\n",
       "0                                     2   0.802982         9120.0   \n",
       "1                                     0   0.121876         2600.0   \n",
       "2                                     1   0.085113         3042.0   \n",
       "3                                     0   0.036050         3300.0   \n",
       "4                                     1   0.024926        63588.0   \n",
       "\n",
       "   NumberOfOpenCreditLinesAndLoans  NumberOfTimes90DaysLate  \\\n",
       "0                               13                        0   \n",
       "1                                4                        0   \n",
       "2                                2                        1   \n",
       "3                                5                        0   \n",
       "4                                7                        0   \n",
       "\n",
       "   NumberRealEstateLoansOrLines  NumberOfTime60-89DaysPastDueNotWorse  \\\n",
       "0                             6                                     0   \n",
       "1                             0                                     0   \n",
       "2                             0                                     0   \n",
       "3                             0                                     0   \n",
       "4                             1                                     0   \n",
       "\n",
       "   NumberOfDependents  \n",
       "0                 2.0  \n",
       "1                 1.0  \n",
       "2                 0.0  \n",
       "3                 0.0  \n",
       "4                 0.0  "
      ]
     },
     "execution_count": 1,
     "metadata": {},
     "output_type": "execute_result"
    }
   ],
   "source": [
    "import pandas as pd\n",
    "import numpy as np\n",
    "df=pd.read_csv('cs-training.csv')\n",
    "df.head()"
   ]
  },
  {
   "cell_type": "code",
   "execution_count": 2,
   "metadata": {},
   "outputs": [
    {
     "name": "stdout",
     "output_type": "stream",
     "text": [
      "<class 'pandas.core.frame.DataFrame'>\n",
      "RangeIndex: 150000 entries, 0 to 149999\n",
      "Data columns (total 12 columns):\n",
      "ID                                      150000 non-null int64\n",
      "SeriousDlqin2yrs                        150000 non-null int64\n",
      "RevolvingUtilizationOfUnsecuredLines    150000 non-null float64\n",
      "age                                     150000 non-null int64\n",
      "NumberOfTime30-59DaysPastDueNotWorse    150000 non-null int64\n",
      "DebtRatio                               150000 non-null float64\n",
      "MonthlyIncome                           120269 non-null float64\n",
      "NumberOfOpenCreditLinesAndLoans         150000 non-null int64\n",
      "NumberOfTimes90DaysLate                 150000 non-null int64\n",
      "NumberRealEstateLoansOrLines            150000 non-null int64\n",
      "NumberOfTime60-89DaysPastDueNotWorse    150000 non-null int64\n",
      "NumberOfDependents                      146076 non-null float64\n",
      "dtypes: float64(4), int64(8)\n",
      "memory usage: 13.7 MB\n"
     ]
    }
   ],
   "source": [
    "df.info()"
   ]
  },
  {
   "cell_type": "code",
   "execution_count": 3,
   "metadata": {},
   "outputs": [
    {
     "data": {
      "text/html": [
       "<div>\n",
       "<style scoped>\n",
       "    .dataframe tbody tr th:only-of-type {\n",
       "        vertical-align: middle;\n",
       "    }\n",
       "\n",
       "    .dataframe tbody tr th {\n",
       "        vertical-align: top;\n",
       "    }\n",
       "\n",
       "    .dataframe thead th {\n",
       "        text-align: right;\n",
       "    }\n",
       "</style>\n",
       "<table border=\"1\" class=\"dataframe\">\n",
       "  <thead>\n",
       "    <tr style=\"text-align: right;\">\n",
       "      <th></th>\n",
       "      <th>SeriousDlqin2yrs</th>\n",
       "      <th>RevolvingUtilizationOfUnsecuredLines</th>\n",
       "      <th>age</th>\n",
       "      <th>NumberOfTime30-59DaysPastDueNotWorse</th>\n",
       "      <th>DebtRatio</th>\n",
       "      <th>MonthlyIncome</th>\n",
       "      <th>NumberOfOpenCreditLinesAndLoans</th>\n",
       "      <th>NumberOfTimes90DaysLate</th>\n",
       "      <th>NumberRealEstateLoansOrLines</th>\n",
       "      <th>NumberOfTime60-89DaysPastDueNotWorse</th>\n",
       "      <th>NumberOfDependents</th>\n",
       "    </tr>\n",
       "    <tr>\n",
       "      <th>ID</th>\n",
       "      <th></th>\n",
       "      <th></th>\n",
       "      <th></th>\n",
       "      <th></th>\n",
       "      <th></th>\n",
       "      <th></th>\n",
       "      <th></th>\n",
       "      <th></th>\n",
       "      <th></th>\n",
       "      <th></th>\n",
       "      <th></th>\n",
       "    </tr>\n",
       "  </thead>\n",
       "  <tbody>\n",
       "    <tr>\n",
       "      <th>1</th>\n",
       "      <td>1</td>\n",
       "      <td>0.766127</td>\n",
       "      <td>45</td>\n",
       "      <td>2</td>\n",
       "      <td>0.802982</td>\n",
       "      <td>9120.0</td>\n",
       "      <td>13</td>\n",
       "      <td>0</td>\n",
       "      <td>6</td>\n",
       "      <td>0</td>\n",
       "      <td>2.0</td>\n",
       "    </tr>\n",
       "    <tr>\n",
       "      <th>2</th>\n",
       "      <td>0</td>\n",
       "      <td>0.957151</td>\n",
       "      <td>40</td>\n",
       "      <td>0</td>\n",
       "      <td>0.121876</td>\n",
       "      <td>2600.0</td>\n",
       "      <td>4</td>\n",
       "      <td>0</td>\n",
       "      <td>0</td>\n",
       "      <td>0</td>\n",
       "      <td>1.0</td>\n",
       "    </tr>\n",
       "    <tr>\n",
       "      <th>3</th>\n",
       "      <td>0</td>\n",
       "      <td>0.658180</td>\n",
       "      <td>38</td>\n",
       "      <td>1</td>\n",
       "      <td>0.085113</td>\n",
       "      <td>3042.0</td>\n",
       "      <td>2</td>\n",
       "      <td>1</td>\n",
       "      <td>0</td>\n",
       "      <td>0</td>\n",
       "      <td>0.0</td>\n",
       "    </tr>\n",
       "    <tr>\n",
       "      <th>4</th>\n",
       "      <td>0</td>\n",
       "      <td>0.233810</td>\n",
       "      <td>30</td>\n",
       "      <td>0</td>\n",
       "      <td>0.036050</td>\n",
       "      <td>3300.0</td>\n",
       "      <td>5</td>\n",
       "      <td>0</td>\n",
       "      <td>0</td>\n",
       "      <td>0</td>\n",
       "      <td>0.0</td>\n",
       "    </tr>\n",
       "    <tr>\n",
       "      <th>5</th>\n",
       "      <td>0</td>\n",
       "      <td>0.907239</td>\n",
       "      <td>49</td>\n",
       "      <td>1</td>\n",
       "      <td>0.024926</td>\n",
       "      <td>63588.0</td>\n",
       "      <td>7</td>\n",
       "      <td>0</td>\n",
       "      <td>1</td>\n",
       "      <td>0</td>\n",
       "      <td>0.0</td>\n",
       "    </tr>\n",
       "  </tbody>\n",
       "</table>\n",
       "</div>"
      ],
      "text/plain": [
       "    SeriousDlqin2yrs  RevolvingUtilizationOfUnsecuredLines  age  \\\n",
       "ID                                                                \n",
       "1                  1                              0.766127   45   \n",
       "2                  0                              0.957151   40   \n",
       "3                  0                              0.658180   38   \n",
       "4                  0                              0.233810   30   \n",
       "5                  0                              0.907239   49   \n",
       "\n",
       "    NumberOfTime30-59DaysPastDueNotWorse  DebtRatio  MonthlyIncome  \\\n",
       "ID                                                                   \n",
       "1                                      2   0.802982         9120.0   \n",
       "2                                      0   0.121876         2600.0   \n",
       "3                                      1   0.085113         3042.0   \n",
       "4                                      0   0.036050         3300.0   \n",
       "5                                      1   0.024926        63588.0   \n",
       "\n",
       "    NumberOfOpenCreditLinesAndLoans  NumberOfTimes90DaysLate  \\\n",
       "ID                                                             \n",
       "1                                13                        0   \n",
       "2                                 4                        0   \n",
       "3                                 2                        1   \n",
       "4                                 5                        0   \n",
       "5                                 7                        0   \n",
       "\n",
       "    NumberRealEstateLoansOrLines  NumberOfTime60-89DaysPastDueNotWorse  \\\n",
       "ID                                                                       \n",
       "1                              6                                     0   \n",
       "2                              0                                     0   \n",
       "3                              0                                     0   \n",
       "4                              0                                     0   \n",
       "5                              1                                     0   \n",
       "\n",
       "    NumberOfDependents  \n",
       "ID                      \n",
       "1                  2.0  \n",
       "2                  1.0  \n",
       "3                  0.0  \n",
       "4                  0.0  \n",
       "5                  0.0  "
      ]
     },
     "execution_count": 3,
     "metadata": {},
     "output_type": "execute_result"
    }
   ],
   "source": [
    "df=df.set_index('ID',drop=True)   #设置id列为索引列\n",
    "df.head()"
   ]
  },
  {
   "cell_type": "code",
   "execution_count": 4,
   "metadata": {},
   "outputs": [
    {
     "data": {
      "text/html": [
       "<div>\n",
       "<style scoped>\n",
       "    .dataframe tbody tr th:only-of-type {\n",
       "        vertical-align: middle;\n",
       "    }\n",
       "\n",
       "    .dataframe tbody tr th {\n",
       "        vertical-align: top;\n",
       "    }\n",
       "\n",
       "    .dataframe thead th {\n",
       "        text-align: right;\n",
       "    }\n",
       "</style>\n",
       "<table border=\"1\" class=\"dataframe\">\n",
       "  <thead>\n",
       "    <tr style=\"text-align: right;\">\n",
       "      <th></th>\n",
       "      <th>好坏客户</th>\n",
       "      <th>可用额度比值</th>\n",
       "      <th>年龄</th>\n",
       "      <th>逾期30-59天笔数</th>\n",
       "      <th>负债率</th>\n",
       "      <th>月收入</th>\n",
       "      <th>信贷数量</th>\n",
       "      <th>逾期90天笔数</th>\n",
       "      <th>固定资产贷款量</th>\n",
       "      <th>逾期60-89天笔数</th>\n",
       "      <th>家属数量</th>\n",
       "    </tr>\n",
       "    <tr>\n",
       "      <th>ID</th>\n",
       "      <th></th>\n",
       "      <th></th>\n",
       "      <th></th>\n",
       "      <th></th>\n",
       "      <th></th>\n",
       "      <th></th>\n",
       "      <th></th>\n",
       "      <th></th>\n",
       "      <th></th>\n",
       "      <th></th>\n",
       "      <th></th>\n",
       "    </tr>\n",
       "  </thead>\n",
       "  <tbody>\n",
       "    <tr>\n",
       "      <th>1</th>\n",
       "      <td>1</td>\n",
       "      <td>0.766127</td>\n",
       "      <td>45</td>\n",
       "      <td>2</td>\n",
       "      <td>0.802982</td>\n",
       "      <td>9120.0</td>\n",
       "      <td>13</td>\n",
       "      <td>0</td>\n",
       "      <td>6</td>\n",
       "      <td>0</td>\n",
       "      <td>2.0</td>\n",
       "    </tr>\n",
       "    <tr>\n",
       "      <th>2</th>\n",
       "      <td>0</td>\n",
       "      <td>0.957151</td>\n",
       "      <td>40</td>\n",
       "      <td>0</td>\n",
       "      <td>0.121876</td>\n",
       "      <td>2600.0</td>\n",
       "      <td>4</td>\n",
       "      <td>0</td>\n",
       "      <td>0</td>\n",
       "      <td>0</td>\n",
       "      <td>1.0</td>\n",
       "    </tr>\n",
       "    <tr>\n",
       "      <th>3</th>\n",
       "      <td>0</td>\n",
       "      <td>0.658180</td>\n",
       "      <td>38</td>\n",
       "      <td>1</td>\n",
       "      <td>0.085113</td>\n",
       "      <td>3042.0</td>\n",
       "      <td>2</td>\n",
       "      <td>1</td>\n",
       "      <td>0</td>\n",
       "      <td>0</td>\n",
       "      <td>0.0</td>\n",
       "    </tr>\n",
       "    <tr>\n",
       "      <th>4</th>\n",
       "      <td>0</td>\n",
       "      <td>0.233810</td>\n",
       "      <td>30</td>\n",
       "      <td>0</td>\n",
       "      <td>0.036050</td>\n",
       "      <td>3300.0</td>\n",
       "      <td>5</td>\n",
       "      <td>0</td>\n",
       "      <td>0</td>\n",
       "      <td>0</td>\n",
       "      <td>0.0</td>\n",
       "    </tr>\n",
       "    <tr>\n",
       "      <th>5</th>\n",
       "      <td>0</td>\n",
       "      <td>0.907239</td>\n",
       "      <td>49</td>\n",
       "      <td>1</td>\n",
       "      <td>0.024926</td>\n",
       "      <td>63588.0</td>\n",
       "      <td>7</td>\n",
       "      <td>0</td>\n",
       "      <td>1</td>\n",
       "      <td>0</td>\n",
       "      <td>0.0</td>\n",
       "    </tr>\n",
       "  </tbody>\n",
       "</table>\n",
       "</div>"
      ],
      "text/plain": [
       "    好坏客户    可用额度比值  年龄  逾期30-59天笔数       负债率      月收入  信贷数量  逾期90天笔数  固定资产贷款量  \\\n",
       "ID                                                                              \n",
       "1      1  0.766127  45           2  0.802982   9120.0    13        0        6   \n",
       "2      0  0.957151  40           0  0.121876   2600.0     4        0        0   \n",
       "3      0  0.658180  38           1  0.085113   3042.0     2        1        0   \n",
       "4      0  0.233810  30           0  0.036050   3300.0     5        0        0   \n",
       "5      0  0.907239  49           1  0.024926  63588.0     7        0        1   \n",
       "\n",
       "    逾期60-89天笔数  家属数量  \n",
       "ID                    \n",
       "1            0   2.0  \n",
       "2            0   1.0  \n",
       "3            0   0.0  \n",
       "4            0   0.0  \n",
       "5            0   0.0  "
      ]
     },
     "execution_count": 4,
     "metadata": {},
     "output_type": "execute_result"
    }
   ],
   "source": [
    "states={'SeriousDlqin2yrs':'好坏客户',\n",
    "        'RevolvingUtilizationOfUnsecuredLines':'可用额度比值',\n",
    "        'age':'年龄',\n",
    "        'NumberOfTime30-59DaysPastDueNotWorse':'逾期30-59天笔数',\n",
    "        'DebtRatio':'负债率',\n",
    "        'MonthlyIncome':'月收入',\n",
    "        'NumberOfOpenCreditLinesAndLoans':'信贷数量',\n",
    "        'NumberOfTimes90DaysLate':'逾期90天笔数',\n",
    "        'NumberRealEstateLoansOrLines':'固定资产贷款量',\n",
    "        'NumberOfTime60-89DaysPastDueNotWorse':'逾期60-89天笔数',\n",
    "        'NumberOfDependents':'家属数量'}\n",
    "df.rename(columns=states,inplace=True)\n",
    "df.head()    #修改英文字段名为中文字段名"
   ]
  },
  {
   "cell_type": "code",
   "execution_count": 5,
   "metadata": {},
   "outputs": [
    {
     "name": "stdout",
     "output_type": "stream",
     "text": [
      "月收入缺失比:19.82%\n"
     ]
    }
   ],
   "source": [
    "print(\"月收入缺失比:{:.2%}\".format(df['月收入'].isnull().sum()/df.shape[0]))  #月收入数据存在缺失"
   ]
  },
  {
   "cell_type": "code",
   "execution_count": 6,
   "metadata": {},
   "outputs": [
    {
     "name": "stdout",
     "output_type": "stream",
     "text": [
      "家属数量缺失比:2.62%\n"
     ]
    }
   ],
   "source": [
    "print(\"家属数量缺失比:{:.2%}\".format(df['家属数量'].isnull().sum()/df.shape[0]))  #家属数量存在缺失"
   ]
  },
  {
   "cell_type": "code",
   "execution_count": 7,
   "metadata": {},
   "outputs": [
    {
     "data": {
      "text/plain": [
       "(146076, 11)"
      ]
     },
     "execution_count": 7,
     "metadata": {},
     "output_type": "execute_result"
    }
   ],
   "source": [
    "df=df.fillna({'月收入':df['月收入'].mean()})   #填充缺失值\n",
    "df1=df.dropna()     #删除缺失值\n",
    "df1.shape"
   ]
  },
  {
   "cell_type": "markdown",
   "metadata": {},
   "source": [
    "通过箱线图观察异常值"
   ]
  },
  {
   "cell_type": "code",
   "execution_count": 8,
   "metadata": {},
   "outputs": [
    {
     "data": {
      "text/plain": [
       "[Text(0,0,'信贷数量'), Text(0,0,'固定资产贷款量')]"
      ]
     },
     "execution_count": 8,
     "metadata": {},
     "output_type": "execute_result"
    },
    {
     "data": {
      "image/png": "[encoded data removed]",
      "text/plain": [
       "<Figure size 1440x1080 with 4 Axes>"
      ]
     },
     "metadata": {},
     "output_type": "display_data"
    }
   ],
   "source": [
    "import matplotlib.pyplot as plt\n",
    "%matplotlib inline\n",
    "from pylab import mpl\n",
    "mpl.rcParams['font.sans-serif'] = ['SimHei']\n",
    "x1=df['可用额度比值']\n",
    "x2=df['负债率']\n",
    "x3=df1[\"年龄\"]\n",
    "x4=df1[\"逾期30-59天笔数\"]\n",
    "x5=df1[\"逾期60-89天笔数\"]\n",
    "x6=df1[\"逾期90天笔数\"]\n",
    "x7=df1[\"信贷数量\"]\n",
    "x8=df1[\"固定资产贷款量\"]\n",
    "fig=plt.figure(figsize=(20,15))\n",
    "ax1=fig.add_subplot(221)\n",
    "ax2=fig.add_subplot(222)\n",
    "ax3=fig.add_subplot(223)\n",
    "ax4=fig.add_subplot(224)\n",
    "ax1.boxplot([x1,x2])\n",
    "ax1.set_xticklabels([\"可用额度比值\",\"负债率\"], fontsize=20)\n",
    "ax2.boxplot(x3)\n",
    "ax2.set_xticklabels(\"年龄\", fontsize=20)\n",
    "ax3.boxplot([x4,x5,x6])\n",
    "ax3.set_xticklabels([\"逾期30-59天笔数\",\"逾期60-89天笔数\",\"逾期90天笔数\"], fontsize=20)\n",
    "ax4.boxplot([x7,x8])\n",
    "ax4.set_xticklabels([\"信贷数量\",\"固定资产贷款量\"], fontsize=20)"
   ]
  },
  {
   "cell_type": "markdown",
   "metadata": {},
   "source": [
    "异常值处理，消除不合逻辑的数据和超级离群的数据"
   ]
  },
  {
   "cell_type": "code",
   "execution_count": 9,
   "metadata": {},
   "outputs": [
    {
     "data": {
      "text/plain": [
       "(142559, 11)"
      ]
     },
     "execution_count": 9,
     "metadata": {},
     "output_type": "execute_result"
    }
   ],
   "source": [
    "df1=df1[df1['可用额度比值']<1]\n",
    "df1=df1[df1['年龄']>0]\n",
    "df1=df1[df1['逾期30-59天笔数']<80]\n",
    "df1=df1[df1['逾期60-89天笔数']<80]\n",
    "df1=df1[df1['逾期90天笔数']<80]\n",
    "df1=df1[df1['固定资产贷款量']<50]\n",
    "df1.shape"
   ]
  },
  {
   "cell_type": "markdown",
   "metadata": {},
   "source": [
    "单变量分析"
   ]
  },
  {
   "cell_type": "code",
   "execution_count": 10,
   "metadata": {},
   "outputs": [
    {
     "data": {
      "text/plain": [
       "年龄\n",
       "(20.914, 38.2]    26984\n",
       "(38.2, 55.4]      56660\n",
       "(55.4, 72.6]      45709\n",
       "(72.6, 89.8]      12640\n",
       "(89.8, 107.0]       566\n",
       "Name: 好坏客户, dtype: int64"
      ]
     },
     "execution_count": 10,
     "metadata": {},
     "output_type": "execute_result"
    }
   ],
   "source": [
    "age_cut=pd.cut(df1['年龄'],5)  #年龄和好坏客户为例进行分析\n",
    "age_cut_group=df1['好坏客户'].groupby(age_cut).count()\n",
    "age_cut_group"
   ]
  },
  {
   "cell_type": "code",
   "execution_count": 11,
   "metadata": {},
   "outputs": [
    {
     "data": {
      "text/plain": [
       "年龄\n",
       "(20.914, 38.2]    2478\n",
       "(38.2, 55.4]      4067\n",
       "(55.4, 72.6]      1664\n",
       "(72.6, 89.8]       273\n",
       "(89.8, 107.0]       12\n",
       "Name: 好坏客户, dtype: int64"
      ]
     },
     "execution_count": 11,
     "metadata": {},
     "output_type": "execute_result"
    }
   ],
   "source": [
    "age_cut_grouped1=df1[\"好坏客户\"].groupby(age_cut).sum() #坏客户\n",
    "age_cut_grouped1"
   ]
  },
  {
   "cell_type": "code",
   "execution_count": 12,
   "metadata": {},
   "outputs": [
    {
     "data": {
      "text/html": [
       "<div>\n",
       "<style scoped>\n",
       "    .dataframe tbody tr th:only-of-type {\n",
       "        vertical-align: middle;\n",
       "    }\n",
       "\n",
       "    .dataframe tbody tr th {\n",
       "        vertical-align: top;\n",
       "    }\n",
       "\n",
       "    .dataframe thead th {\n",
       "        text-align: right;\n",
       "    }\n",
       "</style>\n",
       "<table border=\"1\" class=\"dataframe\">\n",
       "  <thead>\n",
       "    <tr style=\"text-align: right;\">\n",
       "      <th></th>\n",
       "      <th>总客户数</th>\n",
       "      <th>坏客户数</th>\n",
       "    </tr>\n",
       "    <tr>\n",
       "      <th>年龄</th>\n",
       "      <th></th>\n",
       "      <th></th>\n",
       "    </tr>\n",
       "  </thead>\n",
       "  <tbody>\n",
       "    <tr>\n",
       "      <th>(20.914, 38.2]</th>\n",
       "      <td>26984</td>\n",
       "      <td>2478</td>\n",
       "    </tr>\n",
       "    <tr>\n",
       "      <th>(38.2, 55.4]</th>\n",
       "      <td>56660</td>\n",
       "      <td>4067</td>\n",
       "    </tr>\n",
       "    <tr>\n",
       "      <th>(55.4, 72.6]</th>\n",
       "      <td>45709</td>\n",
       "      <td>1664</td>\n",
       "    </tr>\n",
       "    <tr>\n",
       "      <th>(72.6, 89.8]</th>\n",
       "      <td>12640</td>\n",
       "      <td>273</td>\n",
       "    </tr>\n",
       "    <tr>\n",
       "      <th>(89.8, 107.0]</th>\n",
       "      <td>566</td>\n",
       "      <td>12</td>\n",
       "    </tr>\n",
       "  </tbody>\n",
       "</table>\n",
       "</div>"
      ],
      "text/plain": [
       "                 总客户数  坏客户数\n",
       "年龄                         \n",
       "(20.914, 38.2]  26984  2478\n",
       "(38.2, 55.4]    56660  4067\n",
       "(55.4, 72.6]    45709  1664\n",
       "(72.6, 89.8]    12640   273\n",
       "(89.8, 107.0]     566    12"
      ]
     },
     "execution_count": 12,
     "metadata": {},
     "output_type": "execute_result"
    }
   ],
   "source": [
    "df2=pd.merge(pd.DataFrame(age_cut_group),pd.DataFrame(age_cut_grouped1),left_index=True,right_index=True)  #坏客户\n",
    "df2.rename(columns={'好坏客户_x':'总客户数','好坏客户_y':'坏客户数'},inplace=True)\n",
    "df2"
   ]
  },
  {
   "cell_type": "code",
   "execution_count": 13,
   "metadata": {},
   "outputs": [
    {
     "data": {
      "text/html": [
       "<div>\n",
       "<style scoped>\n",
       "    .dataframe tbody tr th:only-of-type {\n",
       "        vertical-align: middle;\n",
       "    }\n",
       "\n",
       "    .dataframe tbody tr th {\n",
       "        vertical-align: top;\n",
       "    }\n",
       "\n",
       "    .dataframe thead th {\n",
       "        text-align: right;\n",
       "    }\n",
       "</style>\n",
       "<table border=\"1\" class=\"dataframe\">\n",
       "  <thead>\n",
       "    <tr style=\"text-align: right;\">\n",
       "      <th></th>\n",
       "      <th>总客户数</th>\n",
       "      <th>坏客户数</th>\n",
       "      <th>好客户数</th>\n",
       "    </tr>\n",
       "    <tr>\n",
       "      <th>年龄</th>\n",
       "      <th></th>\n",
       "      <th></th>\n",
       "      <th></th>\n",
       "    </tr>\n",
       "  </thead>\n",
       "  <tbody>\n",
       "    <tr>\n",
       "      <th>(20.914, 38.2]</th>\n",
       "      <td>26984</td>\n",
       "      <td>2478</td>\n",
       "      <td>24506</td>\n",
       "    </tr>\n",
       "    <tr>\n",
       "      <th>(38.2, 55.4]</th>\n",
       "      <td>56660</td>\n",
       "      <td>4067</td>\n",
       "      <td>52593</td>\n",
       "    </tr>\n",
       "    <tr>\n",
       "      <th>(55.4, 72.6]</th>\n",
       "      <td>45709</td>\n",
       "      <td>1664</td>\n",
       "      <td>44045</td>\n",
       "    </tr>\n",
       "    <tr>\n",
       "      <th>(72.6, 89.8]</th>\n",
       "      <td>12640</td>\n",
       "      <td>273</td>\n",
       "      <td>12367</td>\n",
       "    </tr>\n",
       "    <tr>\n",
       "      <th>(89.8, 107.0]</th>\n",
       "      <td>566</td>\n",
       "      <td>12</td>\n",
       "      <td>554</td>\n",
       "    </tr>\n",
       "  </tbody>\n",
       "</table>\n",
       "</div>"
      ],
      "text/plain": [
       "                 总客户数  坏客户数   好客户数\n",
       "年龄                                \n",
       "(20.914, 38.2]  26984  2478  24506\n",
       "(38.2, 55.4]    56660  4067  52593\n",
       "(55.4, 72.6]    45709  1664  44045\n",
       "(72.6, 89.8]    12640   273  12367\n",
       "(89.8, 107.0]     566    12    554"
      ]
     },
     "execution_count": 13,
     "metadata": {},
     "output_type": "execute_result"
    }
   ],
   "source": [
    "df2.insert(2,\"好客户数\",df2[\"总客户数\"]-df2[\"坏客户数\"])   #好客户\n",
    "df2"
   ]
  },
  {
   "cell_type": "code",
   "execution_count": 14,
   "metadata": {},
   "outputs": [
    {
     "data": {
      "text/html": [
       "<div>\n",
       "<style scoped>\n",
       "    .dataframe tbody tr th:only-of-type {\n",
       "        vertical-align: middle;\n",
       "    }\n",
       "\n",
       "    .dataframe tbody tr th {\n",
       "        vertical-align: top;\n",
       "    }\n",
       "\n",
       "    .dataframe thead th {\n",
       "        text-align: right;\n",
       "    }\n",
       "</style>\n",
       "<table border=\"1\" class=\"dataframe\">\n",
       "  <thead>\n",
       "    <tr style=\"text-align: right;\">\n",
       "      <th></th>\n",
       "      <th>总客户数</th>\n",
       "      <th>坏客户数</th>\n",
       "      <th>坏客户占比</th>\n",
       "      <th>好客户数</th>\n",
       "    </tr>\n",
       "    <tr>\n",
       "      <th>年龄</th>\n",
       "      <th></th>\n",
       "      <th></th>\n",
       "      <th></th>\n",
       "      <th></th>\n",
       "    </tr>\n",
       "  </thead>\n",
       "  <tbody>\n",
       "    <tr>\n",
       "      <th>(20.914, 38.2]</th>\n",
       "      <td>26984</td>\n",
       "      <td>2478</td>\n",
       "      <td>0.091832</td>\n",
       "      <td>24506</td>\n",
       "    </tr>\n",
       "    <tr>\n",
       "      <th>(38.2, 55.4]</th>\n",
       "      <td>56660</td>\n",
       "      <td>4067</td>\n",
       "      <td>0.071779</td>\n",
       "      <td>52593</td>\n",
       "    </tr>\n",
       "    <tr>\n",
       "      <th>(55.4, 72.6]</th>\n",
       "      <td>45709</td>\n",
       "      <td>1664</td>\n",
       "      <td>0.036404</td>\n",
       "      <td>44045</td>\n",
       "    </tr>\n",
       "    <tr>\n",
       "      <th>(72.6, 89.8]</th>\n",
       "      <td>12640</td>\n",
       "      <td>273</td>\n",
       "      <td>0.021598</td>\n",
       "      <td>12367</td>\n",
       "    </tr>\n",
       "    <tr>\n",
       "      <th>(89.8, 107.0]</th>\n",
       "      <td>566</td>\n",
       "      <td>12</td>\n",
       "      <td>0.021201</td>\n",
       "      <td>554</td>\n",
       "    </tr>\n",
       "  </tbody>\n",
       "</table>\n",
       "</div>"
      ],
      "text/plain": [
       "                 总客户数  坏客户数     坏客户占比   好客户数\n",
       "年龄                                          \n",
       "(20.914, 38.2]  26984  2478  0.091832  24506\n",
       "(38.2, 55.4]    56660  4067  0.071779  52593\n",
       "(55.4, 72.6]    45709  1664  0.036404  44045\n",
       "(72.6, 89.8]    12640   273  0.021598  12367\n",
       "(89.8, 107.0]     566    12  0.021201    554"
      ]
     },
     "execution_count": 14,
     "metadata": {},
     "output_type": "execute_result"
    }
   ],
   "source": [
    "df2.insert(2,\"坏客户占比\",df2[\"坏客户数\"]/df2[\"总客户数\"])   #坏客户占比\n",
    "df2"
   ]
  },
  {
   "cell_type": "code",
   "execution_count": 15,
   "metadata": {},
   "outputs": [
    {
     "data": {
      "text/plain": [
       "Text(0.5,1,'年龄与好坏客户数分布图')"
      ]
     },
     "execution_count": 15,
     "metadata": {},
     "output_type": "execute_result"
    },
    {
     "data": {
      "image/png": "[encoded data removed]",
      "text/plain": [
       "<Figure size 720x360 with 1 Axes>"
      ]
     },
     "metadata": {},
     "output_type": "display_data"
    }
   ],
   "source": [
    "ax1=df2[[\"好客户数\",\"坏客户数\"]].plot.bar(figsize=(10,5))\n",
    "ax1.set_xticklabels(df2.index,rotation=15)\n",
    "ax1.set_ylabel(\"客户数\")\n",
    "ax1.set_title(\"年龄与好坏客户数分布图\")"
   ]
  },
  {
   "cell_type": "code",
   "execution_count": 16,
   "metadata": {},
   "outputs": [
    {
     "data": {
      "text/plain": [
       "Text(0.5,1,'坏客户率随年龄的变化趋势图')"
      ]
     },
     "execution_count": 16,
     "metadata": {},
     "output_type": "execute_result"
    },
    {
     "data": {
      "image/png": "[encoded data removed]",
      "text/plain": [
       "<Figure size 720x360 with 1 Axes>"
      ]
     },
     "metadata": {},
     "output_type": "display_data"
    }
   ],
   "source": [
    "ax11=df2[\"坏客户占比\"].plot(figsize=(10,5))\n",
    "ax11.set_xticklabels([0,20,29,38,47,55,64,72,81,89,98,107])\n",
    "ax11.set_ylabel(\"坏客户率\")\n",
    "ax11.set_title(\"坏客户率随年龄的变化趋势图\")"
   ]
  },
  {
   "cell_type": "markdown",
   "metadata": {},
   "source": [
    "多变量分析（可以看到各变量之间的相关性比较小，所以不需要操作，一般相关系数大于0.6可以进行变量剔除）"
   ]
  },
  {
   "cell_type": "code",
   "execution_count": 17,
   "metadata": {
    "scrolled": true
   },
   "outputs": [
    {
     "data": {
      "image/png": "[encoded data removed]",
      "text/plain": [
       "<Figure size 1080x720 with 2 Axes>"
      ]
     },
     "metadata": {},
     "output_type": "display_data"
    }
   ],
   "source": [
    "import seaborn as sns\n",
    "corr = df1.corr()    #计算各变量的相关性系数\n",
    "xticks = list(corr.index)    #x轴标签\n",
    "yticks = list(corr.index)    #y轴标签\n",
    "fig = plt.figure(figsize=(15,10))\n",
    "ax1 = fig.add_subplot(1, 1, 1)\n",
    "sns.heatmap(corr, annot=True, cmap=\"rainbow\",ax=ax1,linewidths=.5, annot_kws={'size': 9, 'weight': 'bold', 'color': 'blue'})\n",
    "ax1.set_xticklabels(xticks, rotation=35, fontsize=15)\n",
    "ax1.set_yticklabels(yticks, rotation=0, fontsize=15)\n",
    "plt.show()"
   ]
  },
  {
   "cell_type": "markdown",
   "metadata": {},
   "source": [
    "WOE分箱（Bin：分箱方法一般分为有监督分箱和无监督分箱，其中有监督分箱多为BestK-S方法和ChiMerge方法，无监督分箱多为等频方法、等距方法和聚类方法）"
   ]
  },
  {
   "cell_type": "code",
   "execution_count": 18,
   "metadata": {},
   "outputs": [],
   "source": [
    "#采用自动分箱办法，导入外部库\n",
    "#from XXDBinning import *\n",
    "#from sklearn.model_selection import train_test_split\n",
    "#df1.head(10)"
   ]
  },
  {
   "cell_type": "code",
   "execution_count": 19,
   "metadata": {},
   "outputs": [],
   "source": [
    "#train_df,test_df = train_test_split(df1,test_size=0.3,random_state=100,stratify=df1.好坏客户)"
   ]
  },
  {
   "cell_type": "code",
   "execution_count": 20,
   "metadata": {},
   "outputs": [],
   "source": [
    "#nb = XXDNumberBin()"
   ]
  },
  {
   "cell_type": "code",
   "execution_count": 21,
   "metadata": {},
   "outputs": [],
   "source": [
    "#nb.monotone_bin(train_df,'年龄','好坏客户',max_bin=5)"
   ]
  },
  {
   "cell_type": "code",
   "execution_count": 22,
   "metadata": {},
   "outputs": [],
   "source": [
    "#nb.get_bin_stats()"
   ]
  },
  {
   "cell_type": "code",
   "execution_count": 23,
   "metadata": {},
   "outputs": [],
   "source": [
    "#nb.plot_woe()"
   ]
  },
  {
   "cell_type": "code",
   "execution_count": 24,
   "metadata": {},
   "outputs": [],
   "source": [
    "#nb.trans_to_woe(test_df['年龄'])"
   ]
  },
  {
   "cell_type": "markdown",
   "metadata": {},
   "source": [
    "计算的分箱数据"
   ]
  },
  {
   "cell_type": "code",
   "execution_count": 25,
   "metadata": {},
   "outputs": [],
   "source": [
    "#bins1=[0, 0.029557182, 0.147452386, 0.5190733129999999, 0.9999998999999999]\n",
    "#bins2=[0,37, 45, 51, 58, 66, 107]\n",
    "#bins3=[0,1,3,5,13]\n",
    "#bins4=[0.0,0.23,0.54,99.9]\n",
    "#bins5=[0, 2915.0, 4211.0, 5699.0, 7000.0, 9832.0, 3008750.0]\n",
    "#bins6=[0,7,32,57]\n",
    "#bins7=[-1,0,6,10,17,20]\n",
    "#bins8=[-1,0,12,22,33]\n",
    "#bins9=[-1,0,5,11]\n",
    "#bins10=[-1,0,1,2,13]"
   ]
  },
  {
   "cell_type": "code",
   "execution_count": 26,
   "metadata": {},
   "outputs": [],
   "source": [
    "#这里采用等频分箱，分箱值可以通过数据导入Excel进行调整\n",
    "cut1=pd.qcut(df1[\"可用额度比值\"],4,labels=False)\n",
    "cut2=pd.qcut(df1[\"年龄\"],8,labels=False)\n",
    "bins3=[-1,0,1,3,5,13]\n",
    "cut3=pd.cut(df1[\"逾期30-59天笔数\"],bins3,labels=False)\n",
    "cut4=pd.qcut(df1[\"负债率\"],3,labels=False)\n",
    "cut5=pd.qcut(df1[\"月收入\"],4,labels=False)\n",
    "cut6=pd.qcut(df1[\"信贷数量\"],4,labels=False)\n",
    "bins7=[-1, 0, 1, 3,5, 20]\n",
    "cut7=pd.cut(df1[\"逾期90天笔数\"],bins7,labels=False)\n",
    "bins8=[-1, 0,1,2, 3, 33]\n",
    "cut8=pd.cut(df1[\"固定资产贷款量\"],bins8,labels=False)\n",
    "bins9=[-1, 0, 1, 3, 12]\n",
    "cut9=pd.cut(df1[\"逾期60-89天笔数\"],bins9,labels=False)\n",
    "bins10=[-1, 0, 1, 2, 3, 5, 21]\n",
    "cut10=pd.cut(df1[\"家属数量\"],bins10,labels=False)"
   ]
  },
  {
   "cell_type": "code",
   "execution_count": 27,
   "metadata": {},
   "outputs": [],
   "source": [
    "rate=df1[\"好坏客户\"].sum()/(df1[\"好坏客户\"].count()-df1[\"好坏客户\"].sum())\n",
    "def get_woe_data(cut):\n",
    "    grouped=df1[\"好坏客户\"].groupby(cut,as_index = True).value_counts()\n",
    "    woe=np.log(grouped.unstack().iloc[:,1]/grouped.unstack().iloc[:,0]/rate)\n",
    "    return woe\n",
    "cut1_woe=get_woe_data(cut1)\n",
    "cut2_woe=get_woe_data(cut2)\n",
    "cut3_woe=get_woe_data(cut3)\n",
    "cut4_woe=get_woe_data(cut4)\n",
    "cut5_woe=get_woe_data(cut5)\n",
    "cut6_woe=get_woe_data(cut6)\n",
    "cut7_woe=get_woe_data(cut7)\n",
    "cut8_woe=get_woe_data(cut8)\n",
    "cut9_woe=get_woe_data(cut9)\n",
    "cut10_woe=get_woe_data(cut10)"
   ]
  },
  {
   "cell_type": "code",
   "execution_count": 28,
   "metadata": {},
   "outputs": [
    {
     "data": {
      "text/plain": [
       "<matplotlib.axes._subplots.AxesSubplot at 0x272ec79a978>"
      ]
     },
     "execution_count": 28,
     "metadata": {},
     "output_type": "execute_result"
    },
    {
     "data": {
      "image/png": "[encoded data removed]",
      "text/plain": [
       "<Figure size 432x288 with 1 Axes>"
      ]
     },
     "metadata": {},
     "output_type": "display_data"
    }
   ],
   "source": [
    "cut1_woe.plot.bar(color='b',alpha=0.3,rot=0)"
   ]
  },
  {
   "cell_type": "code",
   "execution_count": 29,
   "metadata": {},
   "outputs": [],
   "source": [
    "#随机选择不同的WOE值进行查看\n",
    "#cut1_woe.plot.bar(color='b',alpha=0.3,rot=0)\n",
    "#cut2_woe.plot.bar(color='b',alpha=0.3,rot=0)\n",
    "#cut3_woe.plot.bar(color='b',alpha=0.3,rot=0)\n",
    "#尽量将WOE调整至具有单调性"
   ]
  },
  {
   "cell_type": "markdown",
   "metadata": {},
   "source": [
    "IV值计算"
   ]
  },
  {
   "cell_type": "code",
   "execution_count": 30,
   "metadata": {},
   "outputs": [
    {
     "data": {
      "text/plain": [
       "Text(0,0.5,'IV')"
      ]
     },
     "execution_count": 30,
     "metadata": {},
     "output_type": "execute_result"
    },
    {
     "data": {
      "image/png": "[encoded data removed]",
      "text/plain": [
       "<Figure size 720x360 with 1 Axes>"
      ]
     },
     "metadata": {},
     "output_type": "display_data"
    }
   ],
   "source": [
    "def get_IV_data(cut,cut_woe):\n",
    "    grouped=df1[\"好坏客户\"].groupby(cut,as_index = True).value_counts()\n",
    "    cut_IV=((grouped.unstack().iloc[:,1]/df1[\"好坏客户\"].sum()-grouped.unstack().iloc[:,0]/(df1[\"好坏客户\"].count()-df1[\"好坏客户\"].sum()))*cut_woe).sum()    \n",
    "    return cut_IV\n",
    "#计算各分组的IV值\n",
    "cut1_IV=get_IV_data(cut1,cut1_woe)\n",
    "cut2_IV=get_IV_data(cut2,cut2_woe)\n",
    "cut3_IV=get_IV_data(cut3,cut3_woe)\n",
    "cut4_IV=get_IV_data(cut4,cut4_woe)\n",
    "cut5_IV=get_IV_data(cut5,cut5_woe)\n",
    "cut6_IV=get_IV_data(cut6,cut6_woe)\n",
    "cut7_IV=get_IV_data(cut7,cut7_woe)\n",
    "cut8_IV=get_IV_data(cut8,cut8_woe)\n",
    "cut9_IV=get_IV_data(cut9,cut9_woe)\n",
    "cut10_IV=get_IV_data(cut10,cut10_woe)\n",
    "IV=pd.DataFrame([cut1_IV,cut2_IV,cut3_IV,cut4_IV,cut5_IV,cut6_IV,cut7_IV,cut8_IV,cut9_IV,cut10_IV],index=['可用额度比值','年龄','逾期30-59天笔数','负债率','月收入','信贷数量','逾期90天笔数','固定资产贷款量','逾期60-89天笔数','家属数量'],columns=['IV'])\n",
    "iv=IV.plot.bar(color='b',alpha=0.3,rot=30,figsize=(10,5),fontsize=(10))\n",
    "iv.set_title('特征变量与IV值分布图',fontsize=(15))\n",
    "iv.set_xlabel('特征变量',fontsize=(15))\n",
    "iv.set_ylabel('IV',fontsize=(15))\n",
    "\n",
    "#这里可观测IV值\n",
    "#一般选取IV大于0.02的特征变量进行后续训练"
   ]
  },
  {
   "cell_type": "code",
   "execution_count": 31,
   "metadata": {},
   "outputs": [
    {
     "data": {
      "text/html": [
       "<div>\n",
       "<style scoped>\n",
       "    .dataframe tbody tr th:only-of-type {\n",
       "        vertical-align: middle;\n",
       "    }\n",
       "\n",
       "    .dataframe tbody tr th {\n",
       "        vertical-align: top;\n",
       "    }\n",
       "\n",
       "    .dataframe thead th {\n",
       "        text-align: right;\n",
       "    }\n",
       "</style>\n",
       "<table border=\"1\" class=\"dataframe\">\n",
       "  <thead>\n",
       "    <tr style=\"text-align: right;\">\n",
       "      <th></th>\n",
       "      <th>IV</th>\n",
       "    </tr>\n",
       "  </thead>\n",
       "  <tbody>\n",
       "    <tr>\n",
       "      <th>可用额度比值</th>\n",
       "      <td>0.867677</td>\n",
       "    </tr>\n",
       "    <tr>\n",
       "      <th>年龄</th>\n",
       "      <td>0.226285</td>\n",
       "    </tr>\n",
       "    <tr>\n",
       "      <th>逾期30-59天笔数</th>\n",
       "      <td>0.638915</td>\n",
       "    </tr>\n",
       "    <tr>\n",
       "      <th>负债率</th>\n",
       "      <td>0.021881</td>\n",
       "    </tr>\n",
       "    <tr>\n",
       "      <th>月收入</th>\n",
       "      <td>0.056417</td>\n",
       "    </tr>\n",
       "    <tr>\n",
       "      <th>信贷数量</th>\n",
       "      <td>0.035331</td>\n",
       "    </tr>\n",
       "    <tr>\n",
       "      <th>逾期90天笔数</th>\n",
       "      <td>0.780782</td>\n",
       "    </tr>\n",
       "    <tr>\n",
       "      <th>固定资产贷款量</th>\n",
       "      <td>0.052406</td>\n",
       "    </tr>\n",
       "    <tr>\n",
       "      <th>逾期60-89天笔数</th>\n",
       "      <td>0.497545</td>\n",
       "    </tr>\n",
       "    <tr>\n",
       "      <th>家属数量</th>\n",
       "      <td>0.033580</td>\n",
       "    </tr>\n",
       "  </tbody>\n",
       "</table>\n",
       "</div>"
      ],
      "text/plain": [
       "                  IV\n",
       "可用额度比值      0.867677\n",
       "年龄          0.226285\n",
       "逾期30-59天笔数  0.638915\n",
       "负债率         0.021881\n",
       "月收入         0.056417\n",
       "信贷数量        0.035331\n",
       "逾期90天笔数     0.780782\n",
       "固定资产贷款量     0.052406\n",
       "逾期60-89天笔数  0.497545\n",
       "家属数量        0.033580"
      ]
     },
     "execution_count": 31,
     "metadata": {},
     "output_type": "execute_result"
    }
   ],
   "source": [
    "IV"
   ]
  },
  {
   "cell_type": "markdown",
   "metadata": {},
   "source": [
    "WOE值替换"
   ]
  },
  {
   "cell_type": "code",
   "execution_count": 32,
   "metadata": {},
   "outputs": [
    {
     "data": {
      "text/html": [
       "<div>\n",
       "<style scoped>\n",
       "    .dataframe tbody tr th:only-of-type {\n",
       "        vertical-align: middle;\n",
       "    }\n",
       "\n",
       "    .dataframe tbody tr th {\n",
       "        vertical-align: top;\n",
       "    }\n",
       "\n",
       "    .dataframe thead th {\n",
       "        text-align: right;\n",
       "    }\n",
       "</style>\n",
       "<table border=\"1\" class=\"dataframe\">\n",
       "  <thead>\n",
       "    <tr style=\"text-align: right;\">\n",
       "      <th></th>\n",
       "      <th>好坏客户</th>\n",
       "      <th>可用额度比值</th>\n",
       "      <th>年龄</th>\n",
       "      <th>逾期30-59天笔数</th>\n",
       "      <th>负债率</th>\n",
       "      <th>月收入</th>\n",
       "      <th>信贷数量</th>\n",
       "      <th>逾期90天笔数</th>\n",
       "      <th>固定资产贷款量</th>\n",
       "      <th>逾期60-89天笔数</th>\n",
       "      <th>家属数量</th>\n",
       "    </tr>\n",
       "    <tr>\n",
       "      <th>ID</th>\n",
       "      <th></th>\n",
       "      <th></th>\n",
       "      <th></th>\n",
       "      <th></th>\n",
       "      <th></th>\n",
       "      <th></th>\n",
       "      <th></th>\n",
       "      <th></th>\n",
       "      <th></th>\n",
       "      <th></th>\n",
       "      <th></th>\n",
       "    </tr>\n",
       "  </thead>\n",
       "  <tbody>\n",
       "    <tr>\n",
       "      <th>1</th>\n",
       "      <td>1</td>\n",
       "      <td>1.044468</td>\n",
       "      <td>0.246969</td>\n",
       "      <td>1.701683</td>\n",
       "      <td>0.191066</td>\n",
       "      <td>-0.321369</td>\n",
       "      <td>0.045474</td>\n",
       "      <td>-0.345338</td>\n",
       "      <td>0.665870</td>\n",
       "      <td>-0.244603</td>\n",
       "      <td>0.197472</td>\n",
       "    </tr>\n",
       "    <tr>\n",
       "      <th>2</th>\n",
       "      <td>0</td>\n",
       "      <td>1.044468</td>\n",
       "      <td>0.316890</td>\n",
       "      <td>-0.476517</td>\n",
       "      <td>-0.151014</td>\n",
       "      <td>0.289489</td>\n",
       "      <td>0.222781</td>\n",
       "      <td>-0.345338</td>\n",
       "      <td>0.197418</td>\n",
       "      <td>-0.244603</td>\n",
       "      <td>0.097683</td>\n",
       "    </tr>\n",
       "    <tr>\n",
       "      <th>3</th>\n",
       "      <td>0</td>\n",
       "      <td>1.044468</td>\n",
       "      <td>0.316890</td>\n",
       "      <td>0.899640</td>\n",
       "      <td>-0.151014</td>\n",
       "      <td>0.289489</td>\n",
       "      <td>0.222781</td>\n",
       "      <td>1.990279</td>\n",
       "      <td>0.197418</td>\n",
       "      <td>-0.244603</td>\n",
       "      <td>-0.150675</td>\n",
       "    </tr>\n",
       "    <tr>\n",
       "      <th>4</th>\n",
       "      <td>0</td>\n",
       "      <td>-0.247395</td>\n",
       "      <td>0.518166</td>\n",
       "      <td>-0.476517</td>\n",
       "      <td>-0.151014</td>\n",
       "      <td>0.289489</td>\n",
       "      <td>0.222781</td>\n",
       "      <td>-0.345338</td>\n",
       "      <td>0.197418</td>\n",
       "      <td>-0.244603</td>\n",
       "      <td>-0.150675</td>\n",
       "    </tr>\n",
       "    <tr>\n",
       "      <th>5</th>\n",
       "      <td>0</td>\n",
       "      <td>1.044468</td>\n",
       "      <td>0.166515</td>\n",
       "      <td>0.899640</td>\n",
       "      <td>-0.151014</td>\n",
       "      <td>-0.321369</td>\n",
       "      <td>-0.255957</td>\n",
       "      <td>-0.345338</td>\n",
       "      <td>-0.235787</td>\n",
       "      <td>-0.244603</td>\n",
       "      <td>-0.150675</td>\n",
       "    </tr>\n",
       "  </tbody>\n",
       "</table>\n",
       "</div>"
      ],
      "text/plain": [
       "    好坏客户    可用额度比值        年龄  逾期30-59天笔数       负债率       月收入      信贷数量  \\\n",
       "ID                                                                       \n",
       "1      1  1.044468  0.246969    1.701683  0.191066 -0.321369  0.045474   \n",
       "2      0  1.044468  0.316890   -0.476517 -0.151014  0.289489  0.222781   \n",
       "3      0  1.044468  0.316890    0.899640 -0.151014  0.289489  0.222781   \n",
       "4      0 -0.247395  0.518166   -0.476517 -0.151014  0.289489  0.222781   \n",
       "5      0  1.044468  0.166515    0.899640 -0.151014 -0.321369 -0.255957   \n",
       "\n",
       "     逾期90天笔数   固定资产贷款量  逾期60-89天笔数      家属数量  \n",
       "ID                                            \n",
       "1  -0.345338  0.665870   -0.244603  0.197472  \n",
       "2  -0.345338  0.197418   -0.244603  0.097683  \n",
       "3   1.990279  0.197418   -0.244603 -0.150675  \n",
       "4  -0.345338  0.197418   -0.244603 -0.150675  \n",
       "5  -0.345338 -0.235787   -0.244603 -0.150675  "
      ]
     },
     "execution_count": 32,
     "metadata": {},
     "output_type": "execute_result"
    }
   ],
   "source": [
    "df_new=pd.DataFrame()   #新建df_new存放woe转换后的数据\n",
    "def replace_data(cut,cut_woe):\n",
    "    a=[]\n",
    "    for i in cut.unique():\n",
    "        a.append(i)\n",
    "        a.sort()\n",
    "    for m in range(len(a)):\n",
    "        cut.replace(a[m],cut_woe.values[m],inplace=True)\n",
    "    return cut\n",
    "df_new[\"好坏客户\"]=df1[\"好坏客户\"]\n",
    "df_new[\"可用额度比值\"]=replace_data(cut1,cut1_woe)\n",
    "df_new[\"年龄\"]=replace_data(cut2,cut2_woe)\n",
    "df_new[\"逾期30-59天笔数\"]=replace_data(cut3,cut3_woe)\n",
    "df_new[\"负债率\"]=replace_data(cut4,cut4_woe)\n",
    "df_new[\"月收入\"]=replace_data(cut5,cut5_woe)\n",
    "df_new[\"信贷数量\"]=replace_data(cut6,cut6_woe)\n",
    "df_new[\"逾期90天笔数\"]=replace_data(cut7,cut7_woe)\n",
    "df_new[\"固定资产贷款量\"]=replace_data(cut8,cut8_woe)\n",
    "df_new[\"逾期60-89天笔数\"]=replace_data(cut9,cut9_woe)\n",
    "df_new[\"家属数量\"]=replace_data(cut10,cut10_woe)\n",
    "df_new.head()"
   ]
  },
  {
   "cell_type": "markdown",
   "metadata": {},
   "source": [
    "模型训练"
   ]
  },
  {
   "cell_type": "code",
   "execution_count": 33,
   "metadata": {},
   "outputs": [
    {
     "name": "stderr",
     "output_type": "stream",
     "text": [
      "C:\\Users\\liujingqi\\AppData\\Local\\Continuum\\anaconda3\\lib\\site-packages\\sklearn\\linear_model\\logistic.py:432: FutureWarning: Default solver will be changed to 'lbfgs' in 0.22. Specify a solver to silence this warning.\n",
      "  FutureWarning)\n",
      "C:\\Users\\liujingqi\\AppData\\Local\\Continuum\\anaconda3\\lib\\site-packages\\sklearn\\utils\\validation.py:752: DataConversionWarning: A column-vector y was passed when a 1d array was expected. Please change the shape of y to (n_samples, ), for example using ravel().\n",
      "  y = column_or_1d(y, warn=True)\n"
     ]
    },
    {
     "name": "stdout",
     "output_type": "stream",
     "text": [
      "测试成绩：0.9418841189674523\n"
     ]
    }
   ],
   "source": [
    "from sklearn.linear_model import LogisticRegression   #导入sklearn库\n",
    "from sklearn.model_selection import train_test_split\n",
    "x=df_new.iloc[:,1:]\n",
    "y=df_new.iloc[:,:1]\n",
    "x_train,x_test,y_train,y_test=train_test_split(x,y,test_size=0.6,random_state=0)\n",
    "model=LogisticRegression()\n",
    "clf=model.fit(x_train,y_train)\n",
    "print('测试成绩：{}'.format(clf.score(x_test,y_test)))"
   ]
  },
  {
   "cell_type": "code",
   "execution_count": 34,
   "metadata": {},
   "outputs": [
    {
     "data": {
      "text/plain": [
       "array([[0.61989446, 0.43134418, 0.56430583, 1.25749488, 0.57175676,\n",
       "        0.21792504, 0.59060072, 0.63754235, 0.46566219, 0.37090962]])"
      ]
     },
     "execution_count": 34,
     "metadata": {},
     "output_type": "execute_result"
    }
   ],
   "source": [
    "#求特征权值系数coe，用于后面训练结果转分值\n",
    "coe=clf.coef_        #特征权值系数，后面转换为打分规则时会用到\n",
    "coe"
   ]
  },
  {
   "cell_type": "code",
   "execution_count": 35,
   "metadata": {},
   "outputs": [],
   "source": [
    "y_pred=clf.predict(x_test)"
   ]
  },
  {
   "cell_type": "markdown",
   "metadata": {},
   "source": [
    "模型评估"
   ]
  },
  {
   "cell_type": "code",
   "execution_count": 36,
   "metadata": {},
   "outputs": [
    {
     "data": {
      "image/png": "[encoded data removed]",
      "text/plain": [
       "<Figure size 432x288 with 1 Axes>"
      ]
     },
     "metadata": {},
     "output_type": "display_data"
    }
   ],
   "source": [
    "#主要通过ROC曲线、AUC值和K-S值\n",
    "from sklearn.metrics import roc_curve, auc\n",
    "fpr, tpr, threshold = roc_curve(y_test, y_pred)\n",
    "roc_auc = auc(fpr, tpr)\n",
    "plt.plot(fpr, tpr, color='darkorange',label='ROC curve (area = %0.2f)' % roc_auc)\n",
    "plt.plot([0, 1], [0, 1], color='navy',  linestyle='--')\n",
    "plt.xlim([0.0, 1.0])\n",
    "plt.ylim([0.0, 1.0])\n",
    "plt.xlabel('False Positive Rate')\n",
    "plt.ylabel('True Positive Rate')\n",
    "plt.title('ROC_curve')\n",
    "plt.legend(loc=\"lower right\")\n",
    "plt.show()"
   ]
  },
  {
   "cell_type": "code",
   "execution_count": 37,
   "metadata": {},
   "outputs": [
    {
     "data": {
      "text/plain": [
       "0.5735502586388265"
      ]
     },
     "execution_count": 37,
     "metadata": {},
     "output_type": "execute_result"
    }
   ],
   "source": [
    "#AUC值\n",
    "roc_auc"
   ]
  },
  {
   "cell_type": "code",
   "execution_count": 38,
   "metadata": {},
   "outputs": [
    {
     "data": {
      "image/png": "[encoded data removed]",
      "text/plain": [
       "<Figure size 432x288 with 1 Axes>"
      ]
     },
     "metadata": {},
     "output_type": "display_data"
    },
    {
     "data": {
      "text/plain": [
       "<Figure size 1440x1440 with 0 Axes>"
      ]
     },
     "metadata": {},
     "output_type": "display_data"
    }
   ],
   "source": [
    "fig, ax = plt.subplots()\n",
    "ax.plot(1 - threshold, tpr, label='tpr') # ks曲线要按照预测概率降序排列，所以需要1-threshold镜像\n",
    "ax.plot(1 - threshold, fpr, label='fpr')\n",
    "ax.plot(1 - threshold, tpr-fpr,label='KS')\n",
    "plt.xlabel('score')\n",
    "plt.title('KS Curve')\n",
    "plt.ylim([0.0, 1.0])\n",
    "plt.figure(figsize=(20,20))\n",
    "legend = ax.legend(loc='upper left')\n",
    "plt.show()"
   ]
  },
  {
   "cell_type": "code",
   "execution_count": 39,
   "metadata": {},
   "outputs": [
    {
     "data": {
      "text/plain": [
       "0.14710051727765305"
      ]
     },
     "execution_count": 39,
     "metadata": {},
     "output_type": "execute_result"
    }
   ],
   "source": [
    "#K-S值\n",
    "max(tpr-fpr)"
   ]
  },
  {
   "cell_type": "markdown",
   "metadata": {},
   "source": [
    "模型结果转换成评分"
   ]
  },
  {
   "cell_type": "code",
   "execution_count": 40,
   "metadata": {},
   "outputs": [
    {
     "name": "stdout",
     "output_type": "stream",
     "text": [
      "可用额度比值对应的分数:[-22.0, -20.0, -4.0, 19.0]\n",
      "年龄对应的分数:[6.0, 4.0, 3.0, 2.0, -0.0, -5.0, -11.0, -13.0]\n",
      "逾期30-59天笔数对应的分数:[-8.0, 15.0, 28.0, 38.0, 43.0]\n",
      "负债率对应的分数:[-5.0, -2.0, 7.0]\n",
      "月收入对应的分数:[5.0, 2.0, -3.0, -5.0]\n",
      "信贷数量对应的分数:[1.0, -2.0, -1.0, 0.0]\n",
      "逾期90天笔数对应的分数:[-6.0, 34.0, 47.0, 56.0, 56.0]\n",
      "固定资产贷款量对应的分数:[4.0, -4.0, -3.0, 1.0, 12.0]\n",
      "逾期60-89天笔数对应的分数:[-3.0, 25.0, 36.0, 40.0]\n",
      "家属数量对应的分数:[-2.0, 1.0, 2.0, 3.0, 4.0, 7.0]\n"
     ]
    }
   ],
   "source": [
    "#假设好坏比为20的时候分数为600分，每高20分好坏比翻一倍，现在我们求每个变量不同woe值对应的分数刻度可得：\n",
    "factor = 20/np.log(2)\n",
    "offset = 600 - 20*np.log(20)/np.log(2)\n",
    "def get_score(coe,woe,factor):\n",
    "    scores=[]\n",
    "    for w in woe:\n",
    "        score=round(coe*w*factor,0)\n",
    "        scores.append(score)\n",
    "    return scores\n",
    "x1 = get_score(coe[0][0], cut1_woe, factor)\n",
    "x2 = get_score(coe[0][1], cut2_woe, factor)\n",
    "x3 = get_score(coe[0][2], cut3_woe, factor)\n",
    "x4 = get_score(coe[0][3], cut4_woe, factor)\n",
    "x5 = get_score(coe[0][4], cut5_woe, factor)\n",
    "x6 = get_score(coe[0][5], cut6_woe, factor)\n",
    "x7 = get_score(coe[0][6], cut7_woe, factor)\n",
    "x8 = get_score(coe[0][7], cut8_woe, factor)\n",
    "x9 = get_score(coe[0][8], cut9_woe, factor)\n",
    "x10 = get_score(coe[0][9], cut10_woe, factor)\n",
    "print(\"可用额度比值对应的分数:{}\".format(x1))\n",
    "print(\"年龄对应的分数:{}\".format(x2))\n",
    "print(\"逾期30-59天笔数对应的分数:{}\".format(x3))\n",
    "print(\"负债率对应的分数:{}\".format(x4))\n",
    "print(\"月收入对应的分数:{}\".format(x5))\n",
    "print(\"信贷数量对应的分数:{}\".format(x6))\n",
    "print(\"逾期90天笔数对应的分数:{}\".format(x7))\n",
    "print(\"固定资产贷款量对应的分数:{}\".format(x8))\n",
    "print(\"逾期60-89天笔数对应的分数:{}\".format(x9))\n",
    "print(\"家属数量对应的分数:{}\".format(x10))"
   ]
  },
  {
   "cell_type": "markdown",
   "metadata": {},
   "source": [
    "计算客户总分"
   ]
  },
  {
   "cell_type": "code",
   "execution_count": 41,
   "metadata": {},
   "outputs": [],
   "source": [
    "bins1=[0, 0.029557182, 0.147452386, 0.5190733129999999, 0.9999998999999999]\n",
    "bins2=[0,21,37,45,51,58,66,75,107]\n",
    "bins3=[-1,0,1,3,5,13]\n",
    "bins4=[0.0,0.23,0.54,99.9]\n",
    "bins5=[2815.0,4211.0,7000.0,9832.0,3008750.0]\n",
    "bins6=[0,7,20,32,57]\n",
    "bins7=[-1, 0, 1, 3,5, 20]\n",
    "bins8=[-1, 0,1,2, 3, 33]\n",
    "bins9=[-1, 0, 1, 3, 12]\n",
    "bins10=[-1, 0, 1, 2, 3, 5, 21]"
   ]
  },
  {
   "cell_type": "code",
   "execution_count": 42,
   "metadata": {},
   "outputs": [],
   "source": [
    "def compute_score(series,bins,score):\n",
    "    list = []\n",
    "    i = 0\n",
    "    while i < len(series):\n",
    "        value = series[i]\n",
    "        j = len(bins) - 2\n",
    "        m = len(bins) - 2\n",
    "        while j >= 0:\n",
    "            if value >= bins[j]:\n",
    "                j = -1\n",
    "            else:\n",
    "                j -= 1\n",
    "                m -= 1\n",
    "        list.append(score[m])\n",
    "        i += 1\n",
    "    return list\n",
    "path2='cs-training.csv'\n",
    "test1 = pd.read_csv(path2)\n",
    "test1['x1'] = pd.Series(compute_score(test1['RevolvingUtilizationOfUnsecuredLines'],bins1, x1))\n",
    "test1['x2'] = pd.Series(compute_score(test1['age'],bins2, x2))\n",
    "test1['x3'] = pd.Series(compute_score(test1['NumberOfTime30-59DaysPastDueNotWorse'], bins3, x3))\n",
    "test1['x4'] = pd.Series(compute_score(test1['DebtRatio'],bins4, x4))\n",
    "test1['x5'] = pd.Series(compute_score(test1['MonthlyIncome'],bins5, x5))\n",
    "test1['x6'] = pd.Series(compute_score(test1['NumberOfOpenCreditLinesAndLoans'],bins6, x6))\n",
    "test1['x7'] = pd.Series(compute_score(test1['NumberOfTimes90DaysLate'], bins7, x7))\n",
    "test1['x8'] = pd.Series(compute_score(test1['NumberRealEstateLoansOrLines'], bins8, x8))\n",
    "test1['x9'] = pd.Series(compute_score(test1['NumberOfTime60-89DaysPastDueNotWorse'], bins9, x9))\n",
    "test1['x10'] = pd.Series(compute_score(test1['NumberOfDependents'], bins10, x10))\n",
    "test1['Score'] = test1['x1']+test1['x2']-test1['x3']-test1['x4']-test1['x5']+test1['x6']-test1['x7']+test1['x8']-test1['x9']-test1['x10']+600\n",
    "test1.to_csv('target.csv', index=False)"
   ]
  },
  {
   "cell_type": "code",
   "execution_count": null,
   "metadata": {},
   "outputs": [],
   "source": []
  }
 ],
 "metadata": {
  "kernelspec": {
   "display_name": "Python 3",
   "language": "python",
   "name": "python3"
  },
  "language_info": {
   "codemirror_mode": {
    "name": "ipython",
    "version": 3
   },
   "file_extension": ".py",
   "mimetype": "text/x-python",
   "name": "python",
   "nbconvert_exporter": "python",
   "pygments_lexer": "ipython3",
   "version": "3.6.5"
  }
 },
 "nbformat": 4,
 "nbformat_minor": 2
}
